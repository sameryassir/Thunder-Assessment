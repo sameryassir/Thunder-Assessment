{
 "cells": [
  {
   "cell_type": "code",
   "execution_count": 97,
   "id": "cdbf97c8",
   "metadata": {},
   "outputs": [],
   "source": [
    "import numpy as np\n",
    "import pandas as pd\n",
    "df = pd.read_csv('shots_data.csv')"
   ]
  },
  {
   "cell_type": "code",
   "execution_count": 94,
   "id": "90043d3a",
   "metadata": {},
   "outputs": [
    {
     "data": {
      "text/html": [
       "<div>\n",
       "<style scoped>\n",
       "    .dataframe tbody tr th:only-of-type {\n",
       "        vertical-align: middle;\n",
       "    }\n",
       "\n",
       "    .dataframe tbody tr th {\n",
       "        vertical-align: top;\n",
       "    }\n",
       "\n",
       "    .dataframe thead th {\n",
       "        text-align: right;\n",
       "    }\n",
       "</style>\n",
       "<table border=\"1\" class=\"dataframe\">\n",
       "  <thead>\n",
       "    <tr style=\"text-align: right;\">\n",
       "      <th></th>\n",
       "      <th>team</th>\n",
       "      <th>x</th>\n",
       "      <th>y</th>\n",
       "      <th>fgmade</th>\n",
       "    </tr>\n",
       "  </thead>\n",
       "  <tbody>\n",
       "    <tr>\n",
       "      <th>280</th>\n",
       "      <td>Team B</td>\n",
       "      <td>-2.9</td>\n",
       "      <td>16.7</td>\n",
       "      <td>0</td>\n",
       "    </tr>\n",
       "    <tr>\n",
       "      <th>281</th>\n",
       "      <td>Team B</td>\n",
       "      <td>10.3</td>\n",
       "      <td>24.7</td>\n",
       "      <td>0</td>\n",
       "    </tr>\n",
       "    <tr>\n",
       "      <th>282</th>\n",
       "      <td>Team B</td>\n",
       "      <td>-3.5</td>\n",
       "      <td>5.3</td>\n",
       "      <td>1</td>\n",
       "    </tr>\n",
       "    <tr>\n",
       "      <th>283</th>\n",
       "      <td>Team B</td>\n",
       "      <td>0.9</td>\n",
       "      <td>1.5</td>\n",
       "      <td>0</td>\n",
       "    </tr>\n",
       "    <tr>\n",
       "      <th>284</th>\n",
       "      <td>Team B</td>\n",
       "      <td>22.8</td>\n",
       "      <td>-1.5</td>\n",
       "      <td>0</td>\n",
       "    </tr>\n",
       "    <tr>\n",
       "      <th>...</th>\n",
       "      <td>...</td>\n",
       "      <td>...</td>\n",
       "      <td>...</td>\n",
       "      <td>...</td>\n",
       "    </tr>\n",
       "    <tr>\n",
       "      <th>499</th>\n",
       "      <td>Team B</td>\n",
       "      <td>-0.5</td>\n",
       "      <td>2.2</td>\n",
       "      <td>0</td>\n",
       "    </tr>\n",
       "    <tr>\n",
       "      <th>500</th>\n",
       "      <td>Team B</td>\n",
       "      <td>3.5</td>\n",
       "      <td>7.6</td>\n",
       "      <td>0</td>\n",
       "    </tr>\n",
       "    <tr>\n",
       "      <th>501</th>\n",
       "      <td>Team B</td>\n",
       "      <td>0.2</td>\n",
       "      <td>8.8</td>\n",
       "      <td>0</td>\n",
       "    </tr>\n",
       "    <tr>\n",
       "      <th>502</th>\n",
       "      <td>Team B</td>\n",
       "      <td>-0.6</td>\n",
       "      <td>0.7</td>\n",
       "      <td>1</td>\n",
       "    </tr>\n",
       "    <tr>\n",
       "      <th>503</th>\n",
       "      <td>Team B</td>\n",
       "      <td>-0.3</td>\n",
       "      <td>3.6</td>\n",
       "      <td>0</td>\n",
       "    </tr>\n",
       "  </tbody>\n",
       "</table>\n",
       "<p>224 rows × 4 columns</p>\n",
       "</div>"
      ],
      "text/plain": [
       "       team     x     y  fgmade\n",
       "280  Team B  -2.9  16.7       0\n",
       "281  Team B  10.3  24.7       0\n",
       "282  Team B  -3.5   5.3       1\n",
       "283  Team B   0.9   1.5       0\n",
       "284  Team B  22.8  -1.5       0\n",
       "..      ...   ...   ...     ...\n",
       "499  Team B  -0.5   2.2       0\n",
       "500  Team B   3.5   7.6       0\n",
       "501  Team B   0.2   8.8       0\n",
       "502  Team B  -0.6   0.7       1\n",
       "503  Team B  -0.3   3.6       0\n",
       "\n",
       "[224 rows x 4 columns]"
      ]
     },
     "execution_count": 94,
     "metadata": {},
     "output_type": "execute_result"
    }
   ],
   "source": [
    "team_a = df[df['team'] == 'Team A']\n",
    "team_b = df[df['team'] == 'Team B']\n",
    "team_b"
   ]
  },
  {
   "cell_type": "code",
   "execution_count": null,
   "id": "be135155",
   "metadata": {},
   "outputs": [],
   "source": [
    "# TEAM A #"
   ]
  },
  {
   "cell_type": "code",
   "execution_count": 108,
   "id": "e1d79af5",
   "metadata": {},
   "outputs": [
    {
     "data": {
      "text/plain": [
       "0.24285714285714285"
      ]
     },
     "execution_count": 108,
     "metadata": {},
     "output_type": "execute_result"
    }
   ],
   "source": [
    "nc3 = team_a[(abs(team_a['y']) > 7.8) & (np.sqrt(((team_a['y'])**2 + (team_a['x'])**2)) > 23.75)]\n",
    "(len(nc3)/len(team_a))"
   ]
  },
  {
   "cell_type": "code",
   "execution_count": 107,
   "id": "1a4c548a",
   "metadata": {},
   "outputs": [
    {
     "data": {
      "text/plain": [
       "0.06428571428571428"
      ]
     },
     "execution_count": 107,
     "metadata": {},
     "output_type": "execute_result"
    }
   ],
   "source": [
    "c3 = team_a[(abs(team_a['y']) <= 7.8) & (abs(team_a['x']) > 22)]\n",
    "(len(c3)/len(team_a))"
   ]
  },
  {
   "cell_type": "code",
   "execution_count": 106,
   "id": "107cc0a6",
   "metadata": {},
   "outputs": [
    {
     "data": {
      "text/plain": [
       "0.6928571428571428"
      ]
     },
     "execution_count": 106,
     "metadata": {},
     "output_type": "execute_result"
    }
   ],
   "source": [
    "twopt = team_a[(abs(team_a['x']) < 22) & (np.sqrt(((team_a['y'])**2 + (team_a['x'])**2)) < 23.75)]\n",
    "(len(twopt)/len(team_a))"
   ]
  },
  {
   "cell_type": "code",
   "execution_count": 74,
   "id": "8da1317f",
   "metadata": {},
   "outputs": [
    {
     "data": {
      "text/plain": [
       "0.4632352941176471"
      ]
     },
     "execution_count": 74,
     "metadata": {},
     "output_type": "execute_result"
    }
   ],
   "source": [
    "((nc3['fgmade'].value_counts()[1]) + (nc3['fgmade'].value_counts()[1] * 0.5))/len(nc3)"
   ]
  },
  {
   "cell_type": "code",
   "execution_count": 82,
   "id": "ae5e2013",
   "metadata": {},
   "outputs": [
    {
     "data": {
      "text/plain": [
       "0.75"
      ]
     },
     "execution_count": 82,
     "metadata": {},
     "output_type": "execute_result"
    }
   ],
   "source": [
    "((c3['fgmade'].value_counts()[1]) + (c3['fgmade'].value_counts()[1] * 0.5))/len(c3)"
   ]
  },
  {
   "cell_type": "code",
   "execution_count": 89,
   "id": "2948ccc3",
   "metadata": {},
   "outputs": [
    {
     "data": {
      "text/plain": [
       "0.4896907216494845"
      ]
     },
     "execution_count": 89,
     "metadata": {},
     "output_type": "execute_result"
    }
   ],
   "source": [
    "twopt['fgmade'].value_counts()[1] / len(twopt)"
   ]
  },
  {
   "cell_type": "code",
   "execution_count": null,
   "id": "d14395df",
   "metadata": {},
   "outputs": [],
   "source": []
  },
  {
   "cell_type": "code",
   "execution_count": null,
   "id": "1267aeed",
   "metadata": {},
   "outputs": [],
   "source": []
  },
  {
   "cell_type": "code",
   "execution_count": null,
   "id": "efc2fa73",
   "metadata": {},
   "outputs": [],
   "source": [
    "# TEAM B #"
   ]
  },
  {
   "cell_type": "code",
   "execution_count": 95,
   "id": "6f7ae9c6",
   "metadata": {},
   "outputs": [
    {
     "data": {
      "text/plain": [
       "0.2767857142857143"
      ]
     },
     "execution_count": 95,
     "metadata": {},
     "output_type": "execute_result"
    }
   ],
   "source": [
    "nc3b = team_b[(abs(team_b['y']) > 7.8) & (np.sqrt(((team_b['y'])**2 + (team_b['x'])**2)) > 23.75)]\n",
    "len(nc3b)/len(team_b)"
   ]
  },
  {
   "cell_type": "code",
   "execution_count": 99,
   "id": "048f2e0e",
   "metadata": {},
   "outputs": [
    {
     "data": {
      "text/plain": [
       "0.049107142857142856"
      ]
     },
     "execution_count": 99,
     "metadata": {},
     "output_type": "execute_result"
    }
   ],
   "source": [
    "c3b = team_b[(abs(team_b['y']) <= 7.8) & (abs(team_b['x']) > 22)]\n",
    "len(c3b)/len(team_b)"
   ]
  },
  {
   "cell_type": "code",
   "execution_count": 104,
   "id": "2f95c48d",
   "metadata": {},
   "outputs": [
    {
     "data": {
      "text/plain": [
       "0.6696428571428571"
      ]
     },
     "execution_count": 104,
     "metadata": {},
     "output_type": "execute_result"
    }
   ],
   "source": [
    "twoptb = team_b[(abs(team_b['x']) < 22) & (np.sqrt(((team_b['y'])**2 + (team_b['x'])**2)) < 23.75)]\n",
    "len(twoptb)/len(team_b)"
   ]
  },
  {
   "cell_type": "code",
   "execution_count": 101,
   "id": "6bad99f1",
   "metadata": {},
   "outputs": [
    {
     "data": {
      "text/plain": [
       "0.5080645161290323"
      ]
     },
     "execution_count": 101,
     "metadata": {},
     "output_type": "execute_result"
    }
   ],
   "source": [
    "((nc3b['fgmade'].value_counts()[1]) + (nc3b['fgmade'].value_counts()[1] * 0.5))/len(nc3b)"
   ]
  },
  {
   "cell_type": "code",
   "execution_count": 102,
   "id": "a573ffba",
   "metadata": {},
   "outputs": [
    {
     "data": {
      "text/plain": [
       "0.5454545454545454"
      ]
     },
     "execution_count": 102,
     "metadata": {},
     "output_type": "execute_result"
    }
   ],
   "source": [
    "((c3b['fgmade'].value_counts()[1]) + (c3b['fgmade'].value_counts()[1] * 0.5))/len(c3b)"
   ]
  },
  {
   "cell_type": "code",
   "execution_count": 103,
   "id": "3ffb85bb",
   "metadata": {},
   "outputs": [
    {
     "data": {
      "text/plain": [
       "0.44666666666666666"
      ]
     },
     "execution_count": 103,
     "metadata": {},
     "output_type": "execute_result"
    }
   ],
   "source": [
    "twoptb['fgmade'].value_counts()[1] / len(twoptb)"
   ]
  },
  {
   "cell_type": "code",
   "execution_count": null,
   "id": "fa485700",
   "metadata": {},
   "outputs": [],
   "source": []
  }
 ],
 "metadata": {
  "kernelspec": {
   "display_name": "Python 3 (ipykernel)",
   "language": "python",
   "name": "python3"
  },
  "language_info": {
   "codemirror_mode": {
    "name": "ipython",
    "version": 3
   },
   "file_extension": ".py",
   "mimetype": "text/x-python",
   "name": "python",
   "nbconvert_exporter": "python",
   "pygments_lexer": "ipython3",
   "version": "3.9.12"
  }
 },
 "nbformat": 4,
 "nbformat_minor": 5
}
